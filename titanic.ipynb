{
  "nbformat": 4,
  "nbformat_minor": 0,
  "metadata": {
    "colab": {
      "provenance": [],
      "authorship_tag": "ABX9TyN4QTWrIMAC/VeXiGM7/++l",
      "include_colab_link": true
    },
    "kernelspec": {
      "name": "python3",
      "display_name": "Python 3"
    },
    "language_info": {
      "name": "python"
    }
  },
  "cells": [
    {
      "cell_type": "markdown",
      "metadata": {
        "id": "view-in-github",
        "colab_type": "text"
      },
      "source": [
        "<a href=\"https://colab.research.google.com/github/chandra303/Bharat-Intern/blob/main/titanic.ipynb\" target=\"_parent\"><img src=\"https://colab.research.google.com/assets/colab-badge.svg\" alt=\"Open In Colab\"/></a>"
      ]
    },
    {
      "cell_type": "code",
      "execution_count": null,
      "metadata": {
        "colab": {
          "base_uri": "https://localhost:8080/"
        },
        "id": "hORSnOELqkDC",
        "outputId": "d32487f9-3b30-4a44-b777-4fdbf1bb7cde"
      },
      "outputs": [
        {
          "output_type": "stream",
          "name": "stdout",
          "text": [
            "Looking in indexes: https://pypi.org/simple, https://us-python.pkg.dev/colab-wheels/public/simple/\n",
            "Collecting tflearn\n",
            "  Downloading tflearn-0.5.0.tar.gz (107 kB)\n",
            "\u001b[2K     \u001b[90m━━━━━━━━━━━━━━━━━━━━━━━━━━━━━━━━━━━━━━━\u001b[0m \u001b[32m107.3/107.3 kB\u001b[0m \u001b[31m4.8 MB/s\u001b[0m eta \u001b[36m0:00:00\u001b[0m\n",
            "\u001b[?25h  Preparing metadata (setup.py) ... \u001b[?25l\u001b[?25hdone\n",
            "Requirement already satisfied: numpy in /usr/local/lib/python3.10/dist-packages (from tflearn) (1.22.4)\n",
            "Requirement already satisfied: six in /usr/local/lib/python3.10/dist-packages (from tflearn) (1.16.0)\n",
            "Requirement already satisfied: Pillow in /usr/local/lib/python3.10/dist-packages (from tflearn) (8.4.0)\n",
            "Building wheels for collected packages: tflearn\n",
            "  Building wheel for tflearn (setup.py) ... \u001b[?25l\u001b[?25hdone\n",
            "  Created wheel for tflearn: filename=tflearn-0.5.0-py3-none-any.whl size=127283 sha256=ed25196eb98f5acd65f45657235a4d32c37f42765de93c2038e31ac139c83ad0\n",
            "  Stored in directory: /root/.cache/pip/wheels/55/fb/7b/e06204a0ceefa45443930b9a250cb5ebe31def0e4e8245a465\n",
            "Successfully built tflearn\n",
            "Installing collected packages: tflearn\n",
            "Successfully installed tflearn-0.5.0\n"
          ]
        }
      ],
      "source": [
        "pip install tflearn"
      ]
    },
    {
      "cell_type": "code",
      "source": [
        "import numpy as np\n",
        "import pandas as pd\n",
        "import tflearn"
      ],
      "metadata": {
        "id": "8NqYUxIXq2V3"
      },
      "execution_count": null,
      "outputs": []
    },
    {
      "cell_type": "code",
      "source": [
        "from tflearn.datasets import titanic\n",
        "dataset = titanic.download_dataset('titanic_dataset.csv')"
      ],
      "metadata": {
        "id": "_vrvkwG-rZbZ",
        "colab": {
          "base_uri": "https://localhost:8080/"
        },
        "outputId": "b9a1c91a-a5fe-4340-9e47-e4fd56e122f6"
      },
      "execution_count": null,
      "outputs": [
        {
          "output_type": "stream",
          "name": "stdout",
          "text": [
            "Downloading Titanic dataset...\n",
            "Succesfully downloaded titanic_dataset.csv 82865 bytes.\n"
          ]
        }
      ]
    },
    {
      "cell_type": "code",
      "source": [
        "dataset"
      ],
      "metadata": {
        "colab": {
          "base_uri": "https://localhost:8080/",
          "height": 35
        },
        "id": "tnXE100FeBhP",
        "outputId": "1d3d72e0-2aee-4111-81a3-7bab57482ba4"
      },
      "execution_count": null,
      "outputs": [
        {
          "output_type": "execute_result",
          "data": {
            "text/plain": [
              "'./titanic_dataset.csv'"
            ],
            "application/vnd.google.colaboratory.intrinsic+json": {
              "type": "string"
            }
          },
          "metadata": {},
          "execution_count": 20
        }
      ]
    },
    {
      "cell_type": "code",
      "source": [
        "df= pd.read_csv(dataset)\n",
        "df.shape"
      ],
      "metadata": {
        "colab": {
          "base_uri": "https://localhost:8080/"
        },
        "id": "y6U2iVJlrw12",
        "outputId": "f73a9ecc-9ca5-40dc-c62c-8ccc3fdc59d6"
      },
      "execution_count": null,
      "outputs": [
        {
          "output_type": "execute_result",
          "data": {
            "text/plain": [
              "(1309, 9)"
            ]
          },
          "metadata": {},
          "execution_count": 4
        }
      ]
    },
    {
      "cell_type": "code",
      "source": [
        "df.head()"
      ],
      "metadata": {
        "colab": {
          "base_uri": "https://localhost:8080/",
          "height": 206
        },
        "id": "jPp7bEEDsAwm",
        "outputId": "8499f2cb-4d14-4062-859c-810823a34ae9"
      },
      "execution_count": null,
      "outputs": [
        {
          "output_type": "execute_result",
          "data": {
            "text/plain": [
              "   survived  pclass                                             name     sex  \\\n",
              "0         1       1                    Allen, Miss. Elisabeth Walton  female   \n",
              "1         1       1                   Allison, Master. Hudson Trevor    male   \n",
              "2         0       1                     Allison, Miss. Helen Loraine  female   \n",
              "3         0       1             Allison, Mr. Hudson Joshua Creighton    male   \n",
              "4         0       1  Allison, Mrs. Hudson J C (Bessie Waldo Daniels)  female   \n",
              "\n",
              "       age  sibsp  parch  ticket      fare  \n",
              "0  29.0000      0      0   24160  211.3375  \n",
              "1   0.9167      1      2  113781  151.5500  \n",
              "2   2.0000      1      2  113781  151.5500  \n",
              "3  30.0000      1      2  113781  151.5500  \n",
              "4  25.0000      1      2  113781  151.5500  "
            ],
            "text/html": [
              "\n",
              "  <div id=\"df-dd9516e1-1886-4e3e-ac87-9dca1e37d20e\">\n",
              "    <div class=\"colab-df-container\">\n",
              "      <div>\n",
              "<style scoped>\n",
              "    .dataframe tbody tr th:only-of-type {\n",
              "        vertical-align: middle;\n",
              "    }\n",
              "\n",
              "    .dataframe tbody tr th {\n",
              "        vertical-align: top;\n",
              "    }\n",
              "\n",
              "    .dataframe thead th {\n",
              "        text-align: right;\n",
              "    }\n",
              "</style>\n",
              "<table border=\"1\" class=\"dataframe\">\n",
              "  <thead>\n",
              "    <tr style=\"text-align: right;\">\n",
              "      <th></th>\n",
              "      <th>survived</th>\n",
              "      <th>pclass</th>\n",
              "      <th>name</th>\n",
              "      <th>sex</th>\n",
              "      <th>age</th>\n",
              "      <th>sibsp</th>\n",
              "      <th>parch</th>\n",
              "      <th>ticket</th>\n",
              "      <th>fare</th>\n",
              "    </tr>\n",
              "  </thead>\n",
              "  <tbody>\n",
              "    <tr>\n",
              "      <th>0</th>\n",
              "      <td>1</td>\n",
              "      <td>1</td>\n",
              "      <td>Allen, Miss. Elisabeth Walton</td>\n",
              "      <td>female</td>\n",
              "      <td>29.0000</td>\n",
              "      <td>0</td>\n",
              "      <td>0</td>\n",
              "      <td>24160</td>\n",
              "      <td>211.3375</td>\n",
              "    </tr>\n",
              "    <tr>\n",
              "      <th>1</th>\n",
              "      <td>1</td>\n",
              "      <td>1</td>\n",
              "      <td>Allison, Master. Hudson Trevor</td>\n",
              "      <td>male</td>\n",
              "      <td>0.9167</td>\n",
              "      <td>1</td>\n",
              "      <td>2</td>\n",
              "      <td>113781</td>\n",
              "      <td>151.5500</td>\n",
              "    </tr>\n",
              "    <tr>\n",
              "      <th>2</th>\n",
              "      <td>0</td>\n",
              "      <td>1</td>\n",
              "      <td>Allison, Miss. Helen Loraine</td>\n",
              "      <td>female</td>\n",
              "      <td>2.0000</td>\n",
              "      <td>1</td>\n",
              "      <td>2</td>\n",
              "      <td>113781</td>\n",
              "      <td>151.5500</td>\n",
              "    </tr>\n",
              "    <tr>\n",
              "      <th>3</th>\n",
              "      <td>0</td>\n",
              "      <td>1</td>\n",
              "      <td>Allison, Mr. Hudson Joshua Creighton</td>\n",
              "      <td>male</td>\n",
              "      <td>30.0000</td>\n",
              "      <td>1</td>\n",
              "      <td>2</td>\n",
              "      <td>113781</td>\n",
              "      <td>151.5500</td>\n",
              "    </tr>\n",
              "    <tr>\n",
              "      <th>4</th>\n",
              "      <td>0</td>\n",
              "      <td>1</td>\n",
              "      <td>Allison, Mrs. Hudson J C (Bessie Waldo Daniels)</td>\n",
              "      <td>female</td>\n",
              "      <td>25.0000</td>\n",
              "      <td>1</td>\n",
              "      <td>2</td>\n",
              "      <td>113781</td>\n",
              "      <td>151.5500</td>\n",
              "    </tr>\n",
              "  </tbody>\n",
              "</table>\n",
              "</div>\n",
              "      <button class=\"colab-df-convert\" onclick=\"convertToInteractive('df-dd9516e1-1886-4e3e-ac87-9dca1e37d20e')\"\n",
              "              title=\"Convert this dataframe to an interactive table.\"\n",
              "              style=\"display:none;\">\n",
              "        \n",
              "  <svg xmlns=\"http://www.w3.org/2000/svg\" height=\"24px\"viewBox=\"0 0 24 24\"\n",
              "       width=\"24px\">\n",
              "    <path d=\"M0 0h24v24H0V0z\" fill=\"none\"/>\n",
              "    <path d=\"M18.56 5.44l.94 2.06.94-2.06 2.06-.94-2.06-.94-.94-2.06-.94 2.06-2.06.94zm-11 1L8.5 8.5l.94-2.06 2.06-.94-2.06-.94L8.5 2.5l-.94 2.06-2.06.94zm10 10l.94 2.06.94-2.06 2.06-.94-2.06-.94-.94-2.06-.94 2.06-2.06.94z\"/><path d=\"M17.41 7.96l-1.37-1.37c-.4-.4-.92-.59-1.43-.59-.52 0-1.04.2-1.43.59L10.3 9.45l-7.72 7.72c-.78.78-.78 2.05 0 2.83L4 21.41c.39.39.9.59 1.41.59.51 0 1.02-.2 1.41-.59l7.78-7.78 2.81-2.81c.8-.78.8-2.07 0-2.86zM5.41 20L4 18.59l7.72-7.72 1.47 1.35L5.41 20z\"/>\n",
              "  </svg>\n",
              "      </button>\n",
              "      \n",
              "  <style>\n",
              "    .colab-df-container {\n",
              "      display:flex;\n",
              "      flex-wrap:wrap;\n",
              "      gap: 12px;\n",
              "    }\n",
              "\n",
              "    .colab-df-convert {\n",
              "      background-color: #E8F0FE;\n",
              "      border: none;\n",
              "      border-radius: 50%;\n",
              "      cursor: pointer;\n",
              "      display: none;\n",
              "      fill: #1967D2;\n",
              "      height: 32px;\n",
              "      padding: 0 0 0 0;\n",
              "      width: 32px;\n",
              "    }\n",
              "\n",
              "    .colab-df-convert:hover {\n",
              "      background-color: #E2EBFA;\n",
              "      box-shadow: 0px 1px 2px rgba(60, 64, 67, 0.3), 0px 1px 3px 1px rgba(60, 64, 67, 0.15);\n",
              "      fill: #174EA6;\n",
              "    }\n",
              "\n",
              "    [theme=dark] .colab-df-convert {\n",
              "      background-color: #3B4455;\n",
              "      fill: #D2E3FC;\n",
              "    }\n",
              "\n",
              "    [theme=dark] .colab-df-convert:hover {\n",
              "      background-color: #434B5C;\n",
              "      box-shadow: 0px 1px 3px 1px rgba(0, 0, 0, 0.15);\n",
              "      filter: drop-shadow(0px 1px 2px rgba(0, 0, 0, 0.3));\n",
              "      fill: #FFFFFF;\n",
              "    }\n",
              "  </style>\n",
              "\n",
              "      <script>\n",
              "        const buttonEl =\n",
              "          document.querySelector('#df-dd9516e1-1886-4e3e-ac87-9dca1e37d20e button.colab-df-convert');\n",
              "        buttonEl.style.display =\n",
              "          google.colab.kernel.accessAllowed ? 'block' : 'none';\n",
              "\n",
              "        async function convertToInteractive(key) {\n",
              "          const element = document.querySelector('#df-dd9516e1-1886-4e3e-ac87-9dca1e37d20e');\n",
              "          const dataTable =\n",
              "            await google.colab.kernel.invokeFunction('convertToInteractive',\n",
              "                                                     [key], {});\n",
              "          if (!dataTable) return;\n",
              "\n",
              "          const docLinkHtml = 'Like what you see? Visit the ' +\n",
              "            '<a target=\"_blank\" href=https://colab.research.google.com/notebooks/data_table.ipynb>data table notebook</a>'\n",
              "            + ' to learn more about interactive tables.';\n",
              "          element.innerHTML = '';\n",
              "          dataTable['output_type'] = 'display_data';\n",
              "          await google.colab.output.renderOutput(dataTable, element);\n",
              "          const docLink = document.createElement('div');\n",
              "          docLink.innerHTML = docLinkHtml;\n",
              "          element.appendChild(docLink);\n",
              "        }\n",
              "      </script>\n",
              "    </div>\n",
              "  </div>\n",
              "  "
            ]
          },
          "metadata": {},
          "execution_count": 5
        }
      ]
    },
    {
      "cell_type": "code",
      "source": [
        "# if survived column is 0 then person is dead and if the person is 1 then he survive"
      ],
      "metadata": {
        "id": "aW2VG035sEzp"
      },
      "execution_count": null,
      "outputs": []
    },
    {
      "cell_type": "markdown",
      "source": [
        "# loading csv file"
      ],
      "metadata": {
        "id": "6OxghSQrtZiG"
      }
    },
    {
      "cell_type": "code",
      "source": [
        "from tflearn.data_utils import load_csv\n",
        "data, labels = load_csv(dataset, target_column=0, categorical_labels= True, n_classes=2)"
      ],
      "metadata": {
        "id": "Ngk6uRgtsg_O"
      },
      "execution_count": null,
      "outputs": []
    },
    {
      "cell_type": "markdown",
      "source": [
        "# data preprocessing - coverting sex columns into binary numbers"
      ],
      "metadata": {
        "id": "V6Eysy2ku6F_"
      }
    },
    {
      "cell_type": "code",
      "source": [
        "# 1 means female, 0 means male"
      ],
      "metadata": {
        "id": "laa2rGblu5iV"
      },
      "execution_count": null,
      "outputs": []
    },
    {
      "cell_type": "code",
      "source": [
        "def preprocessing(data, discard_cols):\n",
        "  #sorting columns in descending order\n",
        "  for id in sorted(discard_cols,reverse =True):\n",
        "    [r. pop(id) for r in data]\n",
        "  for i in range(len(data)):\n",
        "    #converting 'sex' cloumn into float\n",
        "    data[i][1] = 1. if data[i][1] == 'female' else 0.\n",
        "  return np.array(data, dtype=np.float32)\n",
        "discard_cols =[1,6] #deleting \"name \" and \"ticket\" columns\n",
        "df = preprocessing (data,discard_cols)\n",
        "  "
      ],
      "metadata": {
        "id": "TuTv0vBPu26z"
      },
      "execution_count": null,
      "outputs": []
    },
    {
      "cell_type": "markdown",
      "source": [
        "# neural network classification"
      ],
      "metadata": {
        "id": "166OCxLejVuG"
      }
    },
    {
      "cell_type": "code",
      "source": [
        "net = tflearn.input_data(shape=[None,6])\n",
        "net = tflearn.fully_connected(net,32)\n",
        "net = tflearn.fully_connected(net,32)\n",
        "net = tflearn.fully_connected(net,2,activation='softmax')\n",
        "net = tflearn.regression(net) "
      ],
      "metadata": {
        "id": "xT3EWqLPjS8O",
        "colab": {
          "base_uri": "https://localhost:8080/"
        },
        "outputId": "cd65ff76-67c9-4bb6-e016-78fc2781da2e"
      },
      "execution_count": null,
      "outputs": [
        {
          "output_type": "stream",
          "name": "stderr",
          "text": [
            "WARNING:tensorflow:From /usr/local/lib/python3.10/dist-packages/tflearn/initializations.py:164: calling TruncatedNormal.__init__ (from tensorflow.python.ops.init_ops) with dtype is deprecated and will be removed in a future version.\n",
            "Instructions for updating:\n",
            "Call initializer instance with the dtype argument instead of passing it to the constructor\n"
          ]
        }
      ]
    },
    {
      "cell_type": "markdown",
      "source": [
        "# model training"
      ],
      "metadata": {
        "id": "UQdAxs3QkxqV"
      }
    },
    {
      "cell_type": "code",
      "source": [
        "model = tflearn.DNN(net)\n",
        "model.fit(data,labels, n_epoch=10 , batch_size=16, show_metric=True)"
      ],
      "metadata": {
        "colab": {
          "base_uri": "https://localhost:8080/"
        },
        "id": "F9Ypsv_3kwnP",
        "outputId": "39db4865-10a4-4bdb-bfbb-0007b5c38f4a"
      },
      "execution_count": null,
      "outputs": [
        {
          "output_type": "stream",
          "name": "stdout",
          "text": [
            "Training Step: 819  | total loss: \u001b[1m\u001b[32m0.51340\u001b[0m\u001b[0m | time: 0.569s\n",
            "| Adam | epoch: 010 | loss: 0.51340 - acc: 0.7629 -- iter: 1296/1309\n",
            "Training Step: 820  | total loss: \u001b[1m\u001b[32m0.51340\u001b[0m\u001b[0m | time: 0.574s\n",
            "| Adam | epoch: 010 | loss: 0.51340 - acc: 0.7629 -- iter: 1309/1309\n",
            "--\n"
          ]
        }
      ]
    },
    {
      "cell_type": "markdown",
      "source": [
        "# testing model"
      ],
      "metadata": {
        "id": "rB_PAIxLldKG"
      }
    },
    {
      "cell_type": "code",
      "source": [
        "## loading the data\n",
        "michale = [3, 'michale', 'male', 19, 0, 0, 'N/A', 70.0000]\n",
        "julie = [4, 'julie', 'female', 17, 1, 2, 'N/A', 10.0000]\n",
        "# Preprocess data\n",
        "michale, julie = preprocessing([michale, julie], discard_cols)\n",
        "# Predict surviving chances (class 1 results)\n",
        "pred = model.predict([michale, julie])\n",
        "print(\"michale Surviving Rate:\", pred[0][1])\n",
        "print(\"julie Surviving Rate:\", pred[1][1])"
      ],
      "metadata": {
        "id": "7GeI80c_l0u7",
        "colab": {
          "base_uri": "https://localhost:8080/"
        },
        "outputId": "fecb366f-ad14-4aa6-f20c-21ea689d1042"
      },
      "execution_count": null,
      "outputs": [
        {
          "output_type": "stream",
          "name": "stdout",
          "text": [
            "michale Surviving Rate: 0.28445187\n",
            "julie Surviving Rate: 0.40260333\n"
          ]
        }
      ]
    },
    {
      "cell_type": "markdown",
      "source": [
        "*Form the above cell we can predict the any passenger's surviving rate from users's end who boarded titanic based on their gender, age, status*"
      ],
      "metadata": {
        "id": "sMK-yLurdKZA"
      }
    },
    {
      "cell_type": "code",
      "source": [
        "thank you"
      ],
      "metadata": {
        "id": "rk2B1r9ocE0h"
      },
      "execution_count": null,
      "outputs": []
    }
  ]
}